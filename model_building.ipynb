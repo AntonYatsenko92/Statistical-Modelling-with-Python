{
 "cells": [
  {
   "cell_type": "markdown",
   "metadata": {},
   "source": [
    "Build a regression model."
   ]
  },
  {
   "cell_type": "code",
   "execution_count": 1,
   "metadata": {},
   "outputs": [],
   "source": [
    "import numpy as np\n",
    "import pandas as pd\n",
    "\n",
    "import statsmodels.api as sm"
   ]
  },
  {
   "cell_type": "code",
   "execution_count": 2,
   "metadata": {},
   "outputs": [],
   "source": [
    "model_df = pd.read_csv('regression.csv')"
   ]
  },
  {
   "cell_type": "code",
   "execution_count": 6,
   "metadata": {},
   "outputs": [
    {
     "data": {
      "text/html": [
       "<div>\n",
       "<style scoped>\n",
       "    .dataframe tbody tr th:only-of-type {\n",
       "        vertical-align: middle;\n",
       "    }\n",
       "\n",
       "    .dataframe tbody tr th {\n",
       "        vertical-align: top;\n",
       "    }\n",
       "\n",
       "    .dataframe thead th {\n",
       "        text-align: right;\n",
       "    }\n",
       "</style>\n",
       "<table border=\"1\" class=\"dataframe\">\n",
       "  <thead>\n",
       "    <tr style=\"text-align: right;\">\n",
       "      <th></th>\n",
       "      <th>Bike Station</th>\n",
       "      <th>restaurants</th>\n",
       "      <th>stores</th>\n",
       "      <th>parks</th>\n",
       "      <th>bars</th>\n",
       "      <th>Total Reviews</th>\n",
       "      <th>Average Rating</th>\n",
       "      <th>Empty Slots</th>\n",
       "      <th>Free Bikes</th>\n",
       "    </tr>\n",
       "  </thead>\n",
       "  <tbody>\n",
       "    <tr>\n",
       "      <th>0</th>\n",
       "      <td>Bike Station 0</td>\n",
       "      <td>6</td>\n",
       "      <td>2</td>\n",
       "      <td>0</td>\n",
       "      <td>2</td>\n",
       "      <td>2952.0</td>\n",
       "      <td>4.000</td>\n",
       "      <td>3.0</td>\n",
       "      <td>16.0</td>\n",
       "    </tr>\n",
       "    <tr>\n",
       "      <th>1</th>\n",
       "      <td>Bike Station 1</td>\n",
       "      <td>3</td>\n",
       "      <td>1</td>\n",
       "      <td>2</td>\n",
       "      <td>0</td>\n",
       "      <td>1553.0</td>\n",
       "      <td>4.225</td>\n",
       "      <td>12.0</td>\n",
       "      <td>2.0</td>\n",
       "    </tr>\n",
       "    <tr>\n",
       "      <th>2</th>\n",
       "      <td>Bike Station 10</td>\n",
       "      <td>6</td>\n",
       "      <td>2</td>\n",
       "      <td>0</td>\n",
       "      <td>1</td>\n",
       "      <td>3952.0</td>\n",
       "      <td>3.875</td>\n",
       "      <td>12.0</td>\n",
       "      <td>4.0</td>\n",
       "    </tr>\n",
       "    <tr>\n",
       "      <th>3</th>\n",
       "      <td>Bike Station 100</td>\n",
       "      <td>5</td>\n",
       "      <td>1</td>\n",
       "      <td>0</td>\n",
       "      <td>0</td>\n",
       "      <td>3194.0</td>\n",
       "      <td>4.250</td>\n",
       "      <td>15.0</td>\n",
       "      <td>3.0</td>\n",
       "    </tr>\n",
       "    <tr>\n",
       "      <th>4</th>\n",
       "      <td>Bike Station 101</td>\n",
       "      <td>6</td>\n",
       "      <td>1</td>\n",
       "      <td>1</td>\n",
       "      <td>0</td>\n",
       "      <td>3727.0</td>\n",
       "      <td>4.075</td>\n",
       "      <td>13.0</td>\n",
       "      <td>3.0</td>\n",
       "    </tr>\n",
       "  </tbody>\n",
       "</table>\n",
       "</div>"
      ],
      "text/plain": [
       "       Bike Station  restaurants  stores  parks  bars  Total Reviews  \\\n",
       "0    Bike Station 0            6       2      0     2         2952.0   \n",
       "1    Bike Station 1            3       1      2     0         1553.0   \n",
       "2   Bike Station 10            6       2      0     1         3952.0   \n",
       "3  Bike Station 100            5       1      0     0         3194.0   \n",
       "4  Bike Station 101            6       1      1     0         3727.0   \n",
       "\n",
       "   Average Rating  Empty Slots  Free Bikes  \n",
       "0           4.000          3.0        16.0  \n",
       "1           4.225         12.0         2.0  \n",
       "2           3.875         12.0         4.0  \n",
       "3           4.250         15.0         3.0  \n",
       "4           4.075         13.0         3.0  "
      ]
     },
     "execution_count": 6,
     "metadata": {},
     "output_type": "execute_result"
    }
   ],
   "source": [
    "model_df.head()"
   ]
  },
  {
   "cell_type": "markdown",
   "metadata": {},
   "source": [
    "#### Conducting regression with Empty Slots as the dependent variable"
   ]
  },
  {
   "cell_type": "code",
   "execution_count": 3,
   "metadata": {},
   "outputs": [],
   "source": [
    "X = model_df[['restaurants', 'stores', 'parks', 'bars', 'Total Reviews', 'Average Rating']]"
   ]
  },
  {
   "cell_type": "code",
   "execution_count": 4,
   "metadata": {},
   "outputs": [],
   "source": [
    "#The first attempt aims to analyze what variables affect the number of empty slots at a bike station on a Friday night in Toronto\n",
    "\n",
    "Y = model_df['Empty Slots']"
   ]
  },
  {
   "cell_type": "code",
   "execution_count": 5,
   "metadata": {},
   "outputs": [
    {
     "name": "stdout",
     "output_type": "stream",
     "text": [
      "                            OLS Regression Results                            \n",
      "==============================================================================\n",
      "Dep. Variable:            Empty Slots   R-squared:                       0.073\n",
      "Model:                            OLS   Adj. R-squared:                  0.061\n",
      "Method:                 Least Squares   F-statistic:                     6.441\n",
      "Date:                Mon, 18 Dec 2023   Prob (F-statistic):           1.50e-06\n",
      "Time:                        10:19:16   Log-Likelihood:                -1666.6\n",
      "No. Observations:                 500   AIC:                             3347.\n",
      "Df Residuals:                     493   BIC:                             3377.\n",
      "Df Model:                           6                                         \n",
      "Covariance Type:            nonrobust                                         \n",
      "==================================================================================\n",
      "                     coef    std err          t      P>|t|      [0.025      0.975]\n",
      "----------------------------------------------------------------------------------\n",
      "const             -5.4708      7.014     -0.780      0.436     -19.252       8.310\n",
      "restaurants       -0.3083      0.191     -1.614      0.107      -0.684       0.067\n",
      "stores             0.6344      0.276      2.296      0.022       0.092       1.177\n",
      "parks             -0.1192      0.405     -0.294      0.769      -0.915       0.677\n",
      "bars              -0.8584      0.265     -3.244      0.001      -1.378      -0.338\n",
      "Total Reviews     -0.0002   9.61e-05     -2.274      0.023      -0.000   -2.97e-05\n",
      "Average Rating     4.9221      1.801      2.733      0.007       1.383       8.461\n",
      "==============================================================================\n",
      "Omnibus:                       52.153   Durbin-Watson:                   1.965\n",
      "Prob(Omnibus):                  0.000   Jarque-Bera (JB):               89.869\n",
      "Skew:                           0.661   Prob(JB):                     3.06e-20\n",
      "Kurtosis:                       4.602   Cond. No.                     1.33e+05\n",
      "==============================================================================\n",
      "\n",
      "Notes:\n",
      "[1] Standard Errors assume that the covariance matrix of the errors is correctly specified.\n",
      "[2] The condition number is large, 1.33e+05. This might indicate that there are\n",
      "strong multicollinearity or other numerical problems.\n"
     ]
    }
   ],
   "source": [
    "X = sm.add_constant(X)\n",
    "regression1 = sm.OLS(Y, X).fit()\n",
    "print(regression1.summary())"
   ]
  },
  {
   "cell_type": "code",
   "execution_count": 8,
   "metadata": {},
   "outputs": [],
   "source": [
    "#Remove Restaurants, Stores, and Constant dropped as they are not statistically significant and re-run the model\n",
    "\n",
    "X1 = model_df[['stores', 'bars', 'Total Reviews', 'Average Rating']]"
   ]
  },
  {
   "cell_type": "code",
   "execution_count": 9,
   "metadata": {},
   "outputs": [
    {
     "name": "stdout",
     "output_type": "stream",
     "text": [
      "                                 OLS Regression Results                                \n",
      "=======================================================================================\n",
      "Dep. Variable:            Empty Slots   R-squared (uncentered):                   0.745\n",
      "Model:                            OLS   Adj. R-squared (uncentered):              0.743\n",
      "Method:                 Least Squares   F-statistic:                              363.2\n",
      "Date:                Mon, 18 Dec 2023   Prob (F-statistic):                   7.59e-146\n",
      "Time:                        10:22:11   Log-Likelihood:                         -1668.2\n",
      "No. Observations:                 500   AIC:                                      3344.\n",
      "Df Residuals:                     496   BIC:                                      3361.\n",
      "Df Model:                           4                                                  \n",
      "Covariance Type:            nonrobust                                                  \n",
      "==================================================================================\n",
      "                     coef    std err          t      P>|t|      [0.025      0.975]\n",
      "----------------------------------------------------------------------------------\n",
      "stores             0.7425      0.259      2.868      0.004       0.234       1.251\n",
      "bars              -0.8942      0.264     -3.391      0.001      -1.412      -0.376\n",
      "Total Reviews     -0.0002   9.15e-05     -2.195      0.029      -0.000   -2.11e-05\n",
      "Average Rating     3.1715      0.183     17.368      0.000       2.813       3.530\n",
      "==============================================================================\n",
      "Omnibus:                       49.268   Durbin-Watson:                   1.940\n",
      "Prob(Omnibus):                  0.000   Jarque-Bera (JB):               81.554\n",
      "Skew:                           0.644   Prob(JB):                     1.95e-18\n",
      "Kurtosis:                       4.502   Cond. No.                     5.60e+03\n",
      "==============================================================================\n",
      "\n",
      "Notes:\n",
      "[1] R² is computed without centering (uncentered) since the model does not contain a constant.\n",
      "[2] Standard Errors assume that the covariance matrix of the errors is correctly specified.\n",
      "[3] The condition number is large, 5.6e+03. This might indicate that there are\n",
      "strong multicollinearity or other numerical problems.\n"
     ]
    }
   ],
   "source": [
    "regression2 = sm.OLS(Y, X1).fit()\n",
    "print(regression2.summary())"
   ]
  },
  {
   "cell_type": "markdown",
   "metadata": {},
   "source": [
    "**Model #1 Analysis:** Based on the regression results we can see that number of stores, bars, Total Reviews, and Average Rating all indicators of the number of available bikes at each station. The observed correlation of 0.745 is quite strong, and significantly increased once the constant was dropped from the model."
   ]
  },
  {
   "cell_type": "code",
   "execution_count": 10,
   "metadata": {},
   "outputs": [],
   "source": [
    "X2 = model_df[['restaurants', 'stores', 'parks', 'bars', 'Total Reviews', 'Average Rating']]"
   ]
  },
  {
   "cell_type": "code",
   "execution_count": 11,
   "metadata": {},
   "outputs": [],
   "source": [
    "#The second attempt aims to analyze what variables affect the number of free bikes at a bike station on a Friday night in Toronto\n",
    "\n",
    "Y1 = model_df['Free Bikes']"
   ]
  },
  {
   "cell_type": "code",
   "execution_count": 12,
   "metadata": {},
   "outputs": [
    {
     "name": "stdout",
     "output_type": "stream",
     "text": [
      "                            OLS Regression Results                            \n",
      "==============================================================================\n",
      "Dep. Variable:             Free Bikes   R-squared:                       0.139\n",
      "Model:                            OLS   Adj. R-squared:                  0.129\n",
      "Method:                 Least Squares   F-statistic:                     13.31\n",
      "Date:                Mon, 18 Dec 2023   Prob (F-statistic):           5.33e-14\n",
      "Time:                        10:24:08   Log-Likelihood:                -1652.9\n",
      "No. Observations:                 500   AIC:                             3320.\n",
      "Df Residuals:                     493   BIC:                             3349.\n",
      "Df Model:                           6                                         \n",
      "Covariance Type:            nonrobust                                         \n",
      "==================================================================================\n",
      "                     coef    std err          t      P>|t|      [0.025      0.975]\n",
      "----------------------------------------------------------------------------------\n",
      "const             34.1725      6.824      5.008      0.000      20.765      47.580\n",
      "restaurants       -0.1232      0.186     -0.663      0.508      -0.488       0.242\n",
      "stores            -0.8067      0.269     -3.001      0.003      -1.335      -0.279\n",
      "parks              0.7524      0.394      1.908      0.057      -0.022       1.527\n",
      "bars               0.5859      0.257      2.276      0.023       0.080       1.092\n",
      "Total Reviews      0.0005   9.35e-05      5.658      0.000       0.000       0.001\n",
      "Average Rating    -7.2600      1.752     -4.143      0.000     -10.703      -3.817\n",
      "==============================================================================\n",
      "Omnibus:                       89.478   Durbin-Watson:                   1.831\n",
      "Prob(Omnibus):                  0.000   Jarque-Bera (JB):              142.434\n",
      "Skew:                           1.119   Prob(JB):                     1.18e-31\n",
      "Kurtosis:                       4.354   Cond. No.                     1.33e+05\n",
      "==============================================================================\n",
      "\n",
      "Notes:\n",
      "[1] Standard Errors assume that the covariance matrix of the errors is correctly specified.\n",
      "[2] The condition number is large, 1.33e+05. This might indicate that there are\n",
      "strong multicollinearity or other numerical problems.\n"
     ]
    }
   ],
   "source": [
    "X2 = sm.add_constant(X2)\n",
    "regression3 = sm.OLS(Y1, X2).fit()\n",
    "print(regression3.summary())"
   ]
  },
  {
   "cell_type": "code",
   "execution_count": 13,
   "metadata": {},
   "outputs": [],
   "source": [
    "#Remove Bars as they are not statistically significant and re-run the model\n",
    "\n",
    "X3 = model_df[['stores', 'parks', 'bars', 'Total Reviews', 'Average Rating']]"
   ]
  },
  {
   "cell_type": "code",
   "execution_count": 14,
   "metadata": {},
   "outputs": [
    {
     "name": "stdout",
     "output_type": "stream",
     "text": [
      "                            OLS Regression Results                            \n",
      "==============================================================================\n",
      "Dep. Variable:             Free Bikes   R-squared:                       0.139\n",
      "Model:                            OLS   Adj. R-squared:                  0.130\n",
      "Method:                 Least Squares   F-statistic:                     15.90\n",
      "Date:                Mon, 18 Dec 2023   Prob (F-statistic):           1.55e-14\n",
      "Time:                        10:24:44   Log-Likelihood:                -1653.1\n",
      "No. Observations:                 500   AIC:                             3318.\n",
      "Df Residuals:                     494   BIC:                             3344.\n",
      "Df Model:                           5                                         \n",
      "Covariance Type:            nonrobust                                         \n",
      "==================================================================================\n",
      "                     coef    std err          t      P>|t|      [0.025      0.975]\n",
      "----------------------------------------------------------------------------------\n",
      "const             34.9082      6.729      5.188      0.000      21.687      48.129\n",
      "stores            -0.7520      0.256     -2.941      0.003      -1.254      -0.250\n",
      "parks              0.8622      0.358      2.411      0.016       0.159       1.565\n",
      "bars               0.5718      0.256      2.230      0.026       0.068       1.076\n",
      "Total Reviews      0.0005   9.25e-05      5.816      0.000       0.000       0.001\n",
      "Average Rating    -7.6148      1.668     -4.566      0.000     -10.891      -4.338\n",
      "==============================================================================\n",
      "Omnibus:                       91.697   Durbin-Watson:                   1.841\n",
      "Prob(Omnibus):                  0.000   Jarque-Bera (JB):              148.480\n",
      "Skew:                           1.132   Prob(JB):                     5.73e-33\n",
      "Kurtosis:                       4.414   Cond. No.                     1.31e+05\n",
      "==============================================================================\n",
      "\n",
      "Notes:\n",
      "[1] Standard Errors assume that the covariance matrix of the errors is correctly specified.\n",
      "[2] The condition number is large, 1.31e+05. This might indicate that there are\n",
      "strong multicollinearity or other numerical problems.\n"
     ]
    }
   ],
   "source": [
    "X3 = sm.add_constant(X3)\n",
    "regression4 = sm.OLS(Y1, X3).fit()\n",
    "print(regression4.summary())"
   ]
  },
  {
   "cell_type": "markdown",
   "metadata": {},
   "source": [
    "**Model #2 Analysis:** Number of stores, parks, bars, total reviews, and average rating all impact the number free bikes available at a station. This model yields a significantly lower R2 implying a poor fit compared to the previous model. Stores has a negative correlation, while parks and bars have a positive impact, which does not follow intuition. One explanation could be the time of day (night) and year (mid-December) the data was pulled, however, the low correlation yields the model unusable."
   ]
  },
  {
   "cell_type": "markdown",
   "metadata": {},
   "source": [
    "**Reflection & Next Steps:** Overall the dataset is limiting in a few key aspects:\n",
    "\n",
    "1) Bike data was pulled for a single point in time and may have external variables affecting the results. For example, this data was pulled for a Friday night in Mid-December, which likely would have less usage than if the data was pulled mid-July. To create a more robust model I would want to pull data across different times of day and across different times of year to avoid any seasonality of outliers that could affect this single point-in-time data pull.\n",
    "\n",
    "2) FourSqare & Yelp both had endpoint limitations of 10 and 20 results respectively, which could also affect the data. To build a more robust model I would want to fully analyze the data within the 1000m radius of each bike station, not the first 10 or 20 data points.\n",
    "\n",
    "3) Due to project limitations I was only able to explore the variables that affected empty slots/free bikes based solely on intuition. If more time were allocated, as a Next Step I would better evaluate different variable combinations to assess whether additional POI variables have a greater impact on predicting number of free bikes.\n"
   ]
  },
  {
   "cell_type": "markdown",
   "metadata": {},
   "source": [
    "Provide model output and an interpretation of the results. "
   ]
  },
  {
   "cell_type": "markdown",
   "metadata": {},
   "source": [
    "# Stretch"
   ]
  },
  {
   "cell_type": "markdown",
   "metadata": {},
   "source": [
    "How can you turn the regression model into a classification model?"
   ]
  },
  {
   "cell_type": "code",
   "execution_count": null,
   "metadata": {},
   "outputs": [],
   "source": []
  }
 ],
 "metadata": {
  "kernelspec": {
   "display_name": "base_env",
   "language": "python",
   "name": "base_env"
  },
  "language_info": {
   "codemirror_mode": {
    "name": "ipython",
    "version": 3
   },
   "file_extension": ".py",
   "mimetype": "text/x-python",
   "name": "python",
   "nbconvert_exporter": "python",
   "pygments_lexer": "ipython3",
   "version": "3.10.12"
  }
 },
 "nbformat": 4,
 "nbformat_minor": 4
}
